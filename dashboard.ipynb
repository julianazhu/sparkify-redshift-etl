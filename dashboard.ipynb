{
 "cells": [
  {
   "cell_type": "markdown",
   "metadata": {},
   "source": [
    "# Sparkify Redshift DB Dashboard\n",
    "\n",
    "This Notebook contains some visualisations of the data in the Sparkify Redshift DB after running `etl.py`, as well as some sample analytical queries. \n",
    "\n",
    "For further instructions on how to setup the Redshift DB, refer to the (README)[https://github.com/julianazhu/sparkify-redshift-etl/blob/master/README.md]."
   ]
  },
  {
   "cell_type": "code",
   "execution_count": 22,
   "metadata": {},
   "outputs": [],
   "source": [
    "import json\n",
    "import psycopg2\n",
    "import boto3\n",
    "import matplotlib.pyplot as plt"
   ]
  },
  {
   "cell_type": "code",
   "execution_count": 23,
   "metadata": {},
   "outputs": [],
   "source": [
    "# Connect to Redshift DB with config details defined in the config file. \n",
    "# If you have not set up your Redshift cluster yet, run setup_redshift.py, \n",
    "# create_tables.py and etl.py to load the data.\n",
    "\n",
    "CFG_FILE = 'dwh_config.json'\n",
    "\n",
    "with open(CFG_FILE) as f:\n",
    "    config = json.load(f)\n",
    "    \n",
    "conn = psycopg2.connect(\n",
    "    \"host={} dbname={} user={} password={} port={}\".format(\n",
    "        config['CLUSTER']['HOST'],\n",
    "        config['CLUSTER']['DB_NAME'],\n",
    "        config['CLUSTER']['DB_USER'],\n",
    "        config['CLUSTER']['DB_PASSWORD'],\n",
    "        config['CLUSTER']['DB_PORT'],\n",
    "    )\n",
    ")\n",
    "\n",
    "cur = conn.cursor()"
   ]
  },
  {
   "cell_type": "markdown",
   "metadata": {},
   "source": [
    "## DB Schema\n",
    "The Sparkify DB is uses a star-schema design optimised on queries relating to songs played in the app.\n",
    "\n",
    "**Fact Table:** Songplays\n",
    "**Dimension Tables:** Songs, Times, Artists, Users\n",
    "\n",
    "There are also two staging tables, `staging_events` and `staging_songs` in which the raw data from the Udacity S3 Buckets get loaded into before being transformed into the final schema."
   ]
  },
  {
   "cell_type": "markdown",
   "metadata": {},
   "source": [
    "![Sparkify DB Schema](images/sparkify_db.png)"
   ]
  },
  {
   "cell_type": "code",
   "execution_count": 24,
   "metadata": {},
   "outputs": [
    {
     "name": "stdout",
     "output_type": "stream",
     "text": [
      "table_counts= [105, 14896, 10025, 8023, 333, 14896, 8056]\n"
     ]
    },
    {
     "data": {
      "image/png": "[encoded data removed]",
      "text/plain": [
       "<Figure size 432x288 with 1 Axes>"
      ]
     },
     "metadata": {
      "needs_background": "light"
     },
     "output_type": "display_data"
    }
   ],
   "source": [
    "# Create a plot of the number of rows in each table\n",
    "tables = ['users','songs','artists', 'times', 'songplays', 'staging_songs', 'staging_events']\n",
    "\n",
    "try:\n",
    "    table_counts = []\n",
    "    \n",
    "    for i, table in enumerate(tables):\n",
    "        query = \"SELECT COUNT(*) FROM \" + table\n",
    "        cur.execute(query)\n",
    "        table_counts.append(cur.fetchone()[0])\n",
    "    print(\"table_counts=\", table_counts)\n",
    "    \n",
    "except Exception as e:\n",
    "    print(e)\n",
    "\n",
    "# Create the bar chart\n",
    "fig = plt.figure()\n",
    "ax = fig.add_axes([0,0,1,1])\n",
    "ax.bar(tables,table_counts)\n",
    "plt.setp(ax.get_xticklabels(), rotation=40, horizontalalignment='right')\n",
    "plt.xlabel('Table Name')\n",
    "plt.ylabel('Number of Rows')\n",
    "plt.title(\"Sparkify DB Entries\")\n",
    "plt.show()"
   ]
  },
  {
   "cell_type": "code",
   "execution_count": 19,
   "metadata": {},
   "outputs": [
    {
     "name": "stdout",
     "output_type": "stream",
     "text": [
      "('ARV6GHH1187B9AED0D', 62.19845, 'SWEDEN', 17.55142, 'Sofia Talvik', 249.417, 1, 'SOBXHCE12AB018B6AC', None, 2008)\n"
     ]
    }
   ],
   "source": [
    "query = \"\"\"\n",
    "SELECT\n",
    "    *\n",
    "FROM staging_songs\n",
    "\"\"\"\n",
    "\n",
    "try:\n",
    "    cur.execute(query)\n",
    "    result = cur.fetchone()\n",
    "    print(result)\n",
    "    \n",
    "except Exception as e:\n",
    "    print(e)"
   ]
  },
  {
   "cell_type": "code",
   "execution_count": 21,
   "metadata": {},
   "outputs": [],
   "source": [
    "# Close the connection to the Redshift Cluster DB\n",
    "# Remember to delete the Cluster if you aren't using it anymore using `cleanup_redshift.py`\n",
    "conn.close()"
   ]
  },
  {
   "cell_type": "code",
   "execution_count": 17,
   "metadata": {},
   "outputs": [
    {
     "name": "stdout",
     "output_type": "stream",
     "text": [
      "{'song_id': 'SOBLFFE12AF72AA5BA', 'num_songs': 1, 'title': 'Scream', 'artist_name': 'Adelitas Way', 'artist_latitude': None, 'year': 2009, 'duration': 213.9424, 'artist_id': 'ARJNIUY12298900C91', 'artist_longitude': None, 'artist_location': ''}\n"
     ]
    }
   ],
   "source": [
    "s3 = boto3.client('s3',     \n",
    "                    region_name=config['AWS']['REGION'],\n",
    "                    aws_access_key_id=AWS_ACCESS_KEY,\n",
    "                    aws_secret_access_key=AWS_SECRET\n",
    "                    )\n",
    "content_object = s3.get_object(Bucket='udacity-dend', Key='song-data/A/A/A/TRAAAAK128F9318786.json')\n",
    "file_content = content_object['Body'].read().decode('utf-8')\n",
    "json_content = json.loads(file_content)\n",
    "print(json_content)"
   ]
  },
  {
   "cell_type": "code",
   "execution_count": null,
   "metadata": {},
   "outputs": [],
   "source": []
  },
  {
   "cell_type": "code",
   "execution_count": null,
   "metadata": {},
   "outputs": [],
   "source": []
  }
 ],
 "metadata": {
  "kernelspec": {
   "display_name": "Python 3",
   "language": "python",
   "name": "python3"
  },
  "language_info": {
   "codemirror_mode": {
    "name": "ipython",
    "version": 3
   },
   "file_extension": ".py",
   "mimetype": "text/x-python",
   "name": "python",
   "nbconvert_exporter": "python",
   "pygments_lexer": "ipython3",
   "version": "3.7.6"
  }
 },
 "nbformat": 4,
 "nbformat_minor": 4
}
